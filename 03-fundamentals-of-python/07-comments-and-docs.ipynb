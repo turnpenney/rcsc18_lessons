{
 "cells": [
  {
   "cell_type": "markdown",
   "metadata": {},
   "source": [
    "# Comments and documentation"
   ]
  },
  {
   "cell_type": "markdown",
   "metadata": {},
   "source": [
    "## Commenting code\n",
    "\n",
    "- Confirm comment character if haven't seen it already (unlikely)\n",
    "- Purpose of comments\n",
    "- Where/why/how to write comments\n",
    "- cat/dog picture\n",
    "- go back through code and make sure it's commented"
   ]
  },
  {
   "cell_type": "markdown",
   "metadata": {},
   "source": [
    "## Documentation\n",
    "\n",
    "- Broad concept of why there should be docs (large scale)\n",
    "- smaller scale reasons for having docs\n",
    "- docstrings, etc\n",
    "- go back through code and doc it\n",
    "- see docstring challenges in swc function material"
   ]
  },
  {
   "cell_type": "markdown",
   "metadata": {},
   "source": [
    "## Documenting code\n",
    "\n",
    "Now that we've started thinking about re-using parts of our code, we need to think about what that will actually involve for the user. At the moment, the user is yourself, and you've only just written the function, so it doesn't take a lot to remember what the function does and what parameters it takes.\n",
    "\n",
    "But re-using code doesn't just mean within a single project in the short term. You might have some task you want to do many times over several projects over the next few years, in which case the user may be future-you. Will you remember in two weeks' time what parameters your function takes? How about in two months? Two years? If you make your code available to others to use, they will also want to know how to use your functions.\n",
    "\n",
    "One way of figuring out how to use a function is to simply look at the code, but this isn't ideal. It means finding the particular file where the function is written and looking through the whole function to see what all the variables do, which is time-consuming and can be difficult in large or complex functions. A much better solution is documentation - writing down what your code does as you write it.\n",
    "\n",
    "Some large software packages may have a manual, or narrative documentation which describes conceptually how and why to use different parts of that software. These are useful and an important aspect of documentation. But for now we'll focus more on documenting the code itself, which is more likely to be helpful when working on a smaller or personal project. To do this we'll use two things: comments, which we've already seen, and **docstrings**.\n",
    "\n",
    "For this lesson we'll use a new function to demonstrate documentation. It will take a NumPy array and shift it such that the mean is offset to some user-defined value."
   ]
  },
  {
   "cell_type": "code",
   "execution_count": null,
   "metadata": {},
   "outputs": [],
   "source": []
  },
  {
   "cell_type": "markdown",
   "metadata": {},
   "source": [
    "\n",
    "<section class=\"callout panel panel-warning\">\n",
    "<div class=\"panel-heading\">\n",
    "<h2><span class=\"fa fa-thumb-tack\"></span> # Comments - reminder</h2>\n",
    "</div>\n",
    "\n",
    "\n",
    "<div class=\"panel-body\">\n",
    "\n",
    "<p>Comments are lines in a code which are ignored when the code is run. They're usually indicated by a comment character at the start of the line (in Python's case, a hash, '<code>#</code>'), and they're a crucial part of documenting code.</p>\n",
    "\n",
    "</div>\n",
    "\n",
    "</section>\n"
   ]
  },
  {
   "cell_type": "markdown",
   "metadata": {},
   "source": [
    "### How not to use comments\n",
    "\n",
    "![](https://matrix.org/_matrix/media/v1/download/cadair.com/JtaDnstvdkcNHasPpOzqzOSr)\n",
    "\n",
    "Comments are important but they have to be carefully considered. This picture demonstrates a common way in which comments are misused, by simply describing exactly what the corresponding code does. For the function we wrote above, such a comment might look something like this:"
   ]
  },
  {
   "cell_type": "code",
   "execution_count": null,
   "metadata": {},
   "outputs": [],
   "source": []
  },
  {
   "cell_type": "markdown",
   "metadata": {},
   "source": [
    "At best, this is no better than not having a comment, since it is essentially just repeating the code. In fact, the code itself arguably a clearer and more concise description of what the comment is trying to express anyway. Similarly, it's easy for comments to be too brief or vague:"
   ]
  },
  {
   "cell_type": "code",
   "execution_count": null,
   "metadata": {},
   "outputs": [],
   "source": []
  },
  {
   "cell_type": "markdown",
   "metadata": {},
   "source": [
    "This is just as unhelpful - just like the last comment, it doesn't provide any new information to the user. Even worse would be this:"
   ]
  },
  {
   "cell_type": "code",
   "execution_count": null,
   "metadata": {},
   "outputs": [],
   "source": []
  },
  {
   "cell_type": "markdown",
   "metadata": {},
   "source": [
    "You might not think this kind of comment is particularly likely, but it's actually very easy for comments to be left behind when code changes. This may also seem like an easy mistake to spot and to ignore, but again, the best case scenario here is that you realise the comment is wrong, in which case the comment may as well not be there. Also, what if the comment isn't wrong? Maybe we changed the comment and then neglected to change the code. However it happens, if the code and comment don't match up, would you be able to determine which one is correct? This is just a difficult task in any situation, but it is made far more difficult when the comment only (incorrectly) describes what the following code does."
   ]
  },
  {
   "cell_type": "markdown",
   "metadata": {},
   "source": [
    "### How to use comments\n",
    "\n",
    "Comments should always be used liberally throughout your code (with the caveat of avoiding unhelpful ones as described above). Most importantly they should describe _why_ and _how_ the code is doing what it's doing. The aim is for someone reading your code (which might be you) to be able to _understand_ what is happening, not simply to describe mechanically what any particular part of it does. For example, we might more usefully document our function from above like this:"
   ]
  },
  {
   "cell_type": "code",
   "execution_count": null,
   "metadata": {},
   "outputs": [],
   "source": []
  },
  {
   "cell_type": "markdown",
   "metadata": {},
   "source": [
    "In these comments we have a description of how to call the fuction, what output the user can expect from the function, and what the function achieves. The description of the function call may seem redundant, but we'll see in a moment how it can be made more useful. Also note here that we're documenting the function itself here, not the code within it. Smaller blocks of code certainly should be commented, especially in a larger function than this, but it's very easy to fall into the traps described above, and it's more important to comment chunks of code than individual lines. With a very short function like this, it can reasonably be commented as a single block."
   ]
  },
  {
   "cell_type": "markdown",
   "metadata": {},
   "source": [
    "## Docstrings\n",
    "\n"
   ]
  },
  {
   "cell_type": "markdown",
   "metadata": {},
   "source": [
    "So now we've seen \n",
    "There’s a better way, though. If the first thing in a function is a string that isn’t assigned to a variable, that string is attached to the function as its documentation:"
   ]
  },
  {
   "cell_type": "code",
   "execution_count": null,
   "metadata": {},
   "outputs": [],
   "source": []
  },
  {
   "cell_type": "markdown",
   "metadata": {},
   "source": [
    "There’s a better way, though. If the first thing in a function is a string that isn’t assigned to a variable, that string is attached to the function as its documentation:"
   ]
  },
  {
   "cell_type": "code",
   "execution_count": null,
   "metadata": {},
   "outputs": [],
   "source": []
  },
  {
   "cell_type": "markdown",
   "metadata": {},
   "source": [
    "This is better because we can now ask Python’s built-in help system to show us the documentation for the function:"
   ]
  },
  {
   "cell_type": "code",
   "execution_count": null,
   "metadata": {},
   "outputs": [],
   "source": []
  },
  {
   "cell_type": "markdown",
   "metadata": {},
   "source": [
    "A string like this is called a **docstring**. We don’t need to use triple quotes when we write one, but if we do, we can break the string across multiple lines:"
   ]
  },
  {
   "cell_type": "code",
   "execution_count": null,
   "metadata": {},
   "outputs": [],
   "source": []
  },
  {
   "cell_type": "markdown",
   "metadata": {},
   "source": [
    "## Readable functions\n",
    "\n",
    "Consider these two functions:\n",
    "\n",
    "```python\n",
    "def s(p):\n",
    "    a = 0\n",
    "    for v in p:\n",
    "        a += v\n",
    "    m = a / len(p)\n",
    "    d = 0\n",
    "    for v in p:\n",
    "        d += (v - m) * (v - m)\n",
    "    return np.sqrt(d / (len(p) - 1))\n",
    "\n",
    "def std_dev(sample):\n",
    "    sample_sum = 0\n",
    "    for value in sample:\n",
    "        sample_sum += value\n",
    "\n",
    "    sample_mean = sample_sum / len(sample)\n",
    "\n",
    "    sum_squared_devs = 0\n",
    "    for value in sample:\n",
    "        sum_squared_devs += (value - sample_mean) * (value - sample_mean)\n",
    "\n",
    "    return np.sqrt(sum_squared_devs / (len(sample) - 1))\n",
    "```\n",
    "\n",
    "The functions `s` and `std_dev` are computationally equivalent (they both calculate the sample standard deviation), but to a human reader, they look very different. You probably found `std_dev` much easier to read and understand than `s`.\n",
    "\n",
    "As this example illustrates, both documentation and a programmer’s _coding style_ combine to determine how easy it is for others to read and understand the programmer’s code. Choosing meaningful variable names and using blank spaces to break the code into logical “chunks” are helpful techniques for producing _readable code_. This is useful not only for sharing code with others, but also for the original programmer. If you need to revisit code that you wrote months ago and haven’t thought about since then, you will appreciate the value of readable code!"
   ]
  },
  {
   "cell_type": "markdown",
   "metadata": {},
   "source": [
    "\n",
    "<section class=\"challenge panel panel-success\">\n",
    "<div class=\"panel-heading\">\n",
    "<h2><span class=\"fa fa-pencil\"></span> # Testing and Documenting Your Function</h2>\n",
    "</div>\n",
    "\n",
    "\n",
    "<div class=\"panel-body\">\n",
    "\n",
    "<p>Run the commands <code>help(np.arange)</code> and <code>help(np.linspace)</code> to see how to use these functions to generate regularly-spaced values, then use those values to test your <code>rescale</code> function. Once you’ve successfully tested your function, add a docstring that explains what it does.</p>\n",
    "\n",
    "</div>\n",
    "\n",
    "</section>\n"
   ]
  },
  {
   "cell_type": "markdown",
   "metadata": {},
   "source": [
    "\n",
    "<section class=\"solution panel panel-primary\">\n",
    "<div class=\"panel-heading\">\n",
    "<h2><span class=\"fa fa-eye\"></span> # Solution</h2>\n",
    "</div>\n",
    "\n",
    "\n",
    "<div class=\"panel-body\">\n",
    "\n",
    "<div class=\"codehilite\"><pre><span></span><span class=\"sd\">&quot;&quot;&quot;</span>\n",
    "<span class=\"sd\">Takes an array as input, and returns a corresponding array scaled so that 0 corresponds to the minimum and 1 to the maximum value of the input array.</span>\n",
    "\n",
    "<span class=\"sd\">Examples:</span>\n",
    "<span class=\"sd\">&gt;&gt;&gt; rescale(numpy.arange(10.0))</span>\n",
    "<span class=\"sd\">array([ 0.        ,  0.11111111,  0.22222222,  0.33333333,  0.44444444,</span>\n",
    "<span class=\"sd\">        0.55555556,  0.66666667,  0.77777778,  0.88888889,  1.        ])</span>\n",
    "<span class=\"sd\">&gt;&gt;&gt; rescale(numpy.linspace(0, 100, 5))</span>\n",
    "<span class=\"sd\">array([ 0.  ,  0.25,  0.5 ,  0.75,  1.  ])</span>\n",
    "<span class=\"sd\">&quot;&quot;&quot;</span>\n",
    "</pre></div>\n",
    "\n",
    "</div>\n",
    "\n",
    "</section>\n"
   ]
  },
  {
   "cell_type": "markdown",
   "metadata": {},
   "source": [
    "\n",
    "<section class=\"challenge panel panel-success\">\n",
    "<div class=\"panel-heading\">\n",
    "<h2><span class=\"fa fa-pencil\"></span> # Readable Code</h2>\n",
    "</div>\n",
    "\n",
    "\n",
    "<div class=\"panel-body\">\n",
    "\n",
    "<p>Revise a function you wrote for one of the previous exercises to try to make the code more readable. Then, collaborate with one of your neighbors to critique each other’s functions and discuss how your function implementations could be further improved to make them more readable.</p>\n",
    "\n",
    "</div>\n",
    "\n",
    "</section>\n"
   ]
  },
  {
   "cell_type": "markdown",
   "metadata": {},
   "source": [
    "\n",
    "<section class=\"keypoints panel panel-success\">\n",
    "<div class=\"panel-heading\">\n",
    "<h2><span class=\"fa fa-exclamation-circle\"></span> Key Points</h2>\n",
    "</div>\n",
    "\n",
    "\n",
    "<div class=\"panel-body\">\n",
    "\n",
    "<ul>\n",
    "<li>Use <code>help(thing)</code> to view help for something.</li>\n",
    "<li>Put docstrings in functions to provide help for that function.</li>\n",
    "</ul>\n",
    "\n",
    "</div>\n",
    "\n",
    "</section>\n"
   ]
  },
  {
   "cell_type": "markdown",
   "metadata": {},
   "source": [
    "---\n",
    "The material in this notebook is derived from the Software Carpentry lessons\n",
    "&copy; [Software Carpentry](http://software-carpentry.org/) under the terms\n",
    "of the [CC-BY 4.0](https://creativecommons.org/licenses/by/4.0/) license."
   ]
  }
 ],
 "metadata": {
  "kernelspec": {
   "display_name": "Python 3",
   "language": "python",
   "name": "python3"
  },
  "language_info": {
   "codemirror_mode": {
    "name": "ipython",
    "version": 3
   },
   "file_extension": ".py",
   "mimetype": "text/x-python",
   "name": "python",
   "nbconvert_exporter": "python",
   "pygments_lexer": "ipython3",
   "version": "3.7.0"
  },
  "name": "02-comments-and-docs.ipynb",
  "swc_attribution": true
 },
 "nbformat": 4,
 "nbformat_minor": 2
}
